{
 "cells": [
  {
   "cell_type": "code",
   "execution_count": 2,
   "id": "168bb05c-7400-4b4a-9e42-51d1b67701a8",
   "metadata": {},
   "outputs": [],
   "source": [
    "import numpy as np\n",
    "import matplotlib\n",
    "import pandas"
   ]
  },
  {
   "cell_type": "markdown",
   "id": "6d551835-f8a3-4b78-83c2-00288ad4508d",
   "metadata": {},
   "source": [
    "# Testing Notebook\n",
    "\n",
    "Here is some markdown.\n",
    "\n",
    "$$e^{-i\\pi}=1$$\n",
    "\n",
    "Above is a LaTeX snipptet.\n",
    "\n",
    "Below is a python snippet, and its output.\n",
    "\n",
    "The following is an link to an image, which should embed:\n",
    "![image](./math.jpg)"
   ]
  },
  {
   "cell_type": "code",
   "execution_count": 7,
   "id": "7b452ded-abd7-47f7-b8ce-188df702a57f",
   "metadata": {},
   "outputs": [
    {
     "name": "stdout",
     "output_type": "stream",
     "text": [
      "2.718281828459045\n"
     ]
    }
   ],
   "source": [
    "print(np.e)"
   ]
  },
  {
   "cell_type": "markdown",
   "id": "6633ce98-0bc1-4fb5-90ec-1ebb8b3f2ece",
   "metadata": {},
   "source": [
    "The above snippets output should be already visible from the last run, and saved to the file.\n",
    "\n",
    "Finally, here is a link to another notebook: [Another.ipynb](./Another.ipynb)"
   ]
  }
 ],
 "metadata": {
  "kernelspec": {
   "display_name": "Python 3 (ipykernel)",
   "language": "python",
   "name": "python3"
  },
  "language_info": {
   "codemirror_mode": {
    "name": "ipython",
    "version": 3
   },
   "file_extension": ".py",
   "mimetype": "text/x-python",
   "name": "python",
   "nbconvert_exporter": "python",
   "pygments_lexer": "ipython3",
   "version": "3.13.5"
  }
 },
 "nbformat": 4,
 "nbformat_minor": 5
}
