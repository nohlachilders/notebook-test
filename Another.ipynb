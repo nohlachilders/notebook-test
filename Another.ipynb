{
 "cells": [
  {
   "cell_type": "markdown",
   "id": "da54267f-4fad-4af8-8621-a714651bb712",
   "metadata": {},
   "source": [
    "This should have been linked to via Test.ipynb."
   ]
  },
  {
   "cell_type": "code",
   "execution_count": 1,
   "id": "b862b3ef-e1ac-4f7c-8fa8-ccd3f77abd31",
   "metadata": {},
   "outputs": [
    {
     "name": "stdout",
     "output_type": "stream",
     "text": [
      "3.141592653589793\n"
     ]
    }
   ],
   "source": [
    "import numpy as np\n",
    "\n",
    "print(np.pi)"
   ]
  }
 ],
 "metadata": {
  "kernelspec": {
   "display_name": "Python 3 (ipykernel)",
   "language": "python",
   "name": "python3"
  },
  "language_info": {
   "codemirror_mode": {
    "name": "ipython",
    "version": 3
   },
   "file_extension": ".py",
   "mimetype": "text/x-python",
   "name": "python",
   "nbconvert_exporter": "python",
   "pygments_lexer": "ipython3",
   "version": "3.13.5"
  }
 },
 "nbformat": 4,
 "nbformat_minor": 5
}
